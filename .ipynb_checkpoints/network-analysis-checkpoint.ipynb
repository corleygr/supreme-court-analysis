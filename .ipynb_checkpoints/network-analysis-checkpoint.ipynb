{
 "cells": [
  {
   "cell_type": "code",
   "execution_count": 1,
   "metadata": {
    "collapsed": false
   },
   "outputs": [],
   "source": [
    "%matplotlib inline\n",
    "\n",
    "import numpy as np\n",
    "import pandas as pd\n",
    "import networkx as nx\n",
    "import matplotlib.pyplot as plt\n",
    "import scipy.stats as st\n",
    "import seaborn as sns\n",
    "sns.set(color_codes=True)"
   ]
  },
  {
   "cell_type": "code",
   "execution_count": 2,
   "metadata": {
    "collapsed": false
   },
   "outputs": [],
   "source": [
    "data = pd.read_csv('./RawDatafromJim_Complete.csv', usecols=[0,1,3,6,7,16])\n",
    "data = data.apply(lambda x: pd.to_numeric(x, errors='ignore'))\n",
    "data[\"weight\"]=1"
   ]
  },
  {
   "cell_type": "code",
   "execution_count": 3,
   "metadata": {
    "collapsed": true
   },
   "outputs": [],
   "source": [
    "#build case year lookup\n",
    "case_year_dict ={}\n",
    "citing_year = data.filter(['citing_case','citing_case_year'], axis=1)\n",
    "citing_year = citing_year.rename(columns={'citing_case':'case', 'citing_case_year': 'year'})\n",
    "cited_year = data.filter(['cited_case','cited_case_year'], axis=1)\n",
    "cited_year = cited_year.rename(columns={'cited_case':'case', 'cited_case_year': 'year'})\n",
    "case_year = citing_year.append(cited_year)\n",
    "#create lookup for case and year\n",
    "case_year_dict = {}\n",
    "for row in case_year.iterrows():\n",
    "    case_year_dict[row[1].case] = row[1].year"
   ]
  },
  {
   "cell_type": "code",
   "execution_count": 4,
   "metadata": {
    "collapsed": true
   },
   "outputs": [],
   "source": [
    "#build case year opinion type\n",
    "case_opinion_type_dict ={}\n",
    "citing_year = data.filter(['citing_case','citing_opinion_type'], axis=1)\n",
    "for row in citing_year.iterrows():\n",
    "    case_opinion_type_dict[row[1].citing_case] = row[1].citing_opinion_type"
   ]
  },
  {
   "cell_type": "code",
   "execution_count": 5,
   "metadata": {
    "collapsed": true
   },
   "outputs": [],
   "source": [
    "#build case year opinion type\n",
    "case_usid_dict ={}\n",
    "citing_year = data.filter(['cited_case','cited_usid'], axis=1)\n",
    "for row in citing_year.iterrows():\n",
    "    case_usid_dict[row[1].cited_case] = row[1].cited_usid"
   ]
  },
  {
   "cell_type": "code",
   "execution_count": 7,
   "metadata": {
    "collapsed": false
   },
   "outputs": [],
   "source": [
    "def case_data_for_year(calc_year):\n",
    "    #limit cases to based in year or before\n",
    "    year_data = data.loc[data['citing_case_year'] <= calc_year]\n",
    "    #build network\n",
    "    G = nx.from_pandas_dataframe(year_data,\"citing_case\",\"cited_case\",[\"weight\"],nx.DiGraph())\n",
    "    #calculate hub and authority\n",
    "    h,a = nx.hits(G,1000,normalized=False)\n",
    "    if(len(h) > 0 and len(a) > 0):\n",
    "        d = []\n",
    "        for key in h:\n",
    "            d.append({'calc_year': calc_year, 'case':key, 'case_year': case_year_dict[key], 'opinion_type': case_opinion_type_dict[key], 'case_id': case_usid_dict[key], 'hub_raw': h[key], 'auth_raw': a[key] })\n",
    "        year_case_scores = pd.DataFrame(d)\n",
    "        year_case_scores['hub_percentile'] = year_case_scores.rank(pct=True)['hub_raw']\n",
    "        year_case_scores['hub_rank'] = year_case_scores[\"hub_raw\"].rank(ascending=False)\n",
    "        year_case_scores['auth_percentile'] = year_case_scores.rank(pct=True)['auth_raw']\n",
    "        year_case_scores['auth_rank'] = year_case_scores[\"auth_raw\"].rank(ascending=False)\n",
    "        \n",
    "    else:\n",
    "        return None\n",
    "    return year_case_scores\n"
   ]
  },
  {
   "cell_type": "code",
   "execution_count": 12,
   "metadata": {
    "collapsed": false
   },
   "outputs": [],
   "source": [
    "#years_to_analyize = data.cited_case_year.unique()\n",
    "#years_to_analyize.sort()\n",
    "#years_to_analyize = years_to_analyize[0:10]\n",
    "years_to_analyize = [1800]"
   ]
  },
  {
   "cell_type": "code",
   "execution_count": 13,
   "metadata": {
    "collapsed": false
   },
   "outputs": [
    {
     "ename": "KeyError",
     "evalue": "'1796 U.S. LEXIS 409'",
     "output_type": "error",
     "traceback": [
      "\u001b[0;31m---------------------------------------------------------------------------\u001b[0m",
      "\u001b[0;31mKeyError\u001b[0m                                  Traceback (most recent call last)",
      "\u001b[0;32m<ipython-input-13-583abff176f0>\u001b[0m in \u001b[0;36m<module>\u001b[0;34m()\u001b[0m\n\u001b[1;32m      1\u001b[0m \u001b[0mcase_data\u001b[0m \u001b[1;33m=\u001b[0m \u001b[0mpd\u001b[0m\u001b[1;33m.\u001b[0m\u001b[0mDataFrame\u001b[0m\u001b[1;33m(\u001b[0m\u001b[1;33m)\u001b[0m\u001b[1;33m\u001b[0m\u001b[0m\n\u001b[1;32m      2\u001b[0m \u001b[1;32mfor\u001b[0m \u001b[0myear\u001b[0m \u001b[1;32min\u001b[0m \u001b[0myears_to_analyize\u001b[0m\u001b[1;33m:\u001b[0m\u001b[1;33m\u001b[0m\u001b[0m\n\u001b[0;32m----> 3\u001b[0;31m     \u001b[0mcdy\u001b[0m \u001b[1;33m=\u001b[0m \u001b[0mcase_data_for_year\u001b[0m\u001b[1;33m(\u001b[0m\u001b[0myear\u001b[0m\u001b[1;33m)\u001b[0m\u001b[1;33m\u001b[0m\u001b[0m\n\u001b[0m\u001b[1;32m      4\u001b[0m     \u001b[1;32mif\u001b[0m\u001b[1;33m(\u001b[0m\u001b[0mcdy\u001b[0m \u001b[1;32mis\u001b[0m \u001b[1;32mNone\u001b[0m\u001b[1;33m)\u001b[0m\u001b[1;33m:\u001b[0m\u001b[1;33m\u001b[0m\u001b[0m\n\u001b[1;32m      5\u001b[0m         \u001b[1;32mcontinue\u001b[0m\u001b[1;33m\u001b[0m\u001b[0m\n",
      "\u001b[0;32m<ipython-input-7-567979beff11>\u001b[0m in \u001b[0;36mcase_data_for_year\u001b[0;34m(calc_year)\u001b[0m\n\u001b[1;32m      9\u001b[0m         \u001b[0md\u001b[0m \u001b[1;33m=\u001b[0m \u001b[1;33m[\u001b[0m\u001b[1;33m]\u001b[0m\u001b[1;33m\u001b[0m\u001b[0m\n\u001b[1;32m     10\u001b[0m         \u001b[1;32mfor\u001b[0m \u001b[0mkey\u001b[0m \u001b[1;32min\u001b[0m \u001b[0mh\u001b[0m\u001b[1;33m:\u001b[0m\u001b[1;33m\u001b[0m\u001b[0m\n\u001b[0;32m---> 11\u001b[0;31m             \u001b[0md\u001b[0m\u001b[1;33m.\u001b[0m\u001b[0mappend\u001b[0m\u001b[1;33m(\u001b[0m\u001b[1;33m{\u001b[0m\u001b[1;34m'calc_year'\u001b[0m\u001b[1;33m:\u001b[0m \u001b[0mcalc_year\u001b[0m\u001b[1;33m,\u001b[0m \u001b[1;34m'case'\u001b[0m\u001b[1;33m:\u001b[0m\u001b[0mkey\u001b[0m\u001b[1;33m,\u001b[0m \u001b[1;34m'case_year'\u001b[0m\u001b[1;33m:\u001b[0m \u001b[0mcase_year_dict\u001b[0m\u001b[1;33m[\u001b[0m\u001b[0mkey\u001b[0m\u001b[1;33m]\u001b[0m\u001b[1;33m,\u001b[0m \u001b[1;34m'opinion_type'\u001b[0m\u001b[1;33m:\u001b[0m \u001b[0mcase_opinion_type_dict\u001b[0m\u001b[1;33m[\u001b[0m\u001b[0mkey\u001b[0m\u001b[1;33m]\u001b[0m\u001b[1;33m,\u001b[0m \u001b[1;34m'case_id'\u001b[0m\u001b[1;33m:\u001b[0m \u001b[0mcase_usid_dict\u001b[0m\u001b[1;33m[\u001b[0m\u001b[0mkey\u001b[0m\u001b[1;33m]\u001b[0m\u001b[1;33m,\u001b[0m \u001b[1;34m'hub_raw'\u001b[0m\u001b[1;33m:\u001b[0m \u001b[0mh\u001b[0m\u001b[1;33m[\u001b[0m\u001b[0mkey\u001b[0m\u001b[1;33m]\u001b[0m\u001b[1;33m,\u001b[0m \u001b[1;34m'auth_raw'\u001b[0m\u001b[1;33m:\u001b[0m \u001b[0ma\u001b[0m\u001b[1;33m[\u001b[0m\u001b[0mkey\u001b[0m\u001b[1;33m]\u001b[0m \u001b[1;33m}\u001b[0m\u001b[1;33m)\u001b[0m\u001b[1;33m\u001b[0m\u001b[0m\n\u001b[0m\u001b[1;32m     12\u001b[0m         \u001b[0myear_case_scores\u001b[0m \u001b[1;33m=\u001b[0m \u001b[0mpd\u001b[0m\u001b[1;33m.\u001b[0m\u001b[0mDataFrame\u001b[0m\u001b[1;33m(\u001b[0m\u001b[0md\u001b[0m\u001b[1;33m)\u001b[0m\u001b[1;33m\u001b[0m\u001b[0m\n\u001b[1;32m     13\u001b[0m         \u001b[0myear_case_scores\u001b[0m\u001b[1;33m[\u001b[0m\u001b[1;34m'hub_percentile'\u001b[0m\u001b[1;33m]\u001b[0m \u001b[1;33m=\u001b[0m \u001b[0myear_case_scores\u001b[0m\u001b[1;33m.\u001b[0m\u001b[0mrank\u001b[0m\u001b[1;33m(\u001b[0m\u001b[0mpct\u001b[0m\u001b[1;33m=\u001b[0m\u001b[1;32mTrue\u001b[0m\u001b[1;33m)\u001b[0m\u001b[1;33m[\u001b[0m\u001b[1;34m'hub_raw'\u001b[0m\u001b[1;33m]\u001b[0m\u001b[1;33m\u001b[0m\u001b[0m\n",
      "\u001b[0;31mKeyError\u001b[0m: '1796 U.S. LEXIS 409'"
     ]
    }
   ],
   "source": [
    "case_data = pd.DataFrame()\n",
    "for year in years_to_analyize:\n",
    "    cdy = case_data_for_year(year)\n",
    "    if(cdy is None):\n",
    "        continue\n",
    "    else:\n",
    "        case_data = case_data.append(cdy)"
   ]
  },
  {
   "cell_type": "code",
   "execution_count": 11,
   "metadata": {
    "collapsed": false
   },
   "outputs": [
    {
     "data": {
      "text/html": [
       "<div>\n",
       "<table border=\"1\" class=\"dataframe\">\n",
       "  <thead>\n",
       "    <tr style=\"text-align: right;\">\n",
       "      <th></th>\n",
       "    </tr>\n",
       "  </thead>\n",
       "  <tbody>\n",
       "  </tbody>\n",
       "</table>\n",
       "</div>"
      ],
      "text/plain": [
       "Empty DataFrame\n",
       "Columns: []\n",
       "Index: []"
      ]
     },
     "execution_count": 11,
     "metadata": {},
     "output_type": "execute_result"
    }
   ],
   "source": [
    "#case_data.sort_values(by=\"hub_rank\",inplace=True)\n",
    "case_data"
   ]
  },
  {
   "cell_type": "code",
   "execution_count": null,
   "metadata": {
    "collapsed": true
   },
   "outputs": [],
   "source": []
  }
 ],
 "metadata": {
  "kernelspec": {
   "display_name": "Python 3",
   "language": "python",
   "name": "python3"
  },
  "language_info": {
   "codemirror_mode": {
    "name": "ipython",
    "version": 3
   },
   "file_extension": ".py",
   "mimetype": "text/x-python",
   "name": "python",
   "nbconvert_exporter": "python",
   "pygments_lexer": "ipython3",
   "version": "3.6.0"
  }
 },
 "nbformat": 4,
 "nbformat_minor": 1
}
