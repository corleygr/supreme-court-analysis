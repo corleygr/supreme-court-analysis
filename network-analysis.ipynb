{
 "cells": [
  {
   "cell_type": "code",
   "execution_count": null,
   "metadata": {
    "collapsed": false
   },
   "outputs": [],
   "source": [
    "%matplotlib inline\n",
    "\n",
    "import numpy as np\n",
    "import pandas as pd\n",
    "import networkx as nx\n",
    "import matplotlib.pyplot as plt\n",
    "import scipy.stats as st\n",
    "import seaborn as sns\n",
    "sns.set(color_codes=True)"
   ]
  },
  {
   "cell_type": "code",
   "execution_count": null,
   "metadata": {
    "collapsed": false
   },
   "outputs": [],
   "source": [
    "data = pd.read_csv('./RawDatafromJim_Complete.csv', usecols=[0,1,3,6,7,16])\n",
    "data"
   ]
  },
  {
   "cell_type": "code",
   "execution_count": null,
   "metadata": {
    "collapsed": false
   },
   "outputs": [],
   "source": [
    "data = pd.read_csv('./RawDatafromJim_Complete.csv', usecols=[0,1,3,6,7,16])\n",
    "data.citing_opinion_type = data.citing_opinion_type.astype(str)\n",
    "data[\"citing_case-opinion_type\"] = data[\"citing_case\"] + \"-\" + data[\"citing_opinion_type\"]\n",
    "data[\"cited_case-opinion_type\"] = data[\"cited_case\"] + \"-0\"\n",
    "data = data.apply(lambda x: pd.to_numeric(x, errors='ignore'))\n",
    "data[\"weight\"]=1"
   ]
  },
  {
   "cell_type": "code",
   "execution_count": null,
   "metadata": {
    "collapsed": false
   },
   "outputs": [],
   "source": [
    "#build case year lookups\n",
    "cited_data = data.filter(['cited_case','cited_usid'], axis=1)\n",
    "cited_data.drop_duplicates(inplace=True, keep='first')"
   ]
  },
  {
   "cell_type": "code",
   "execution_count": null,
   "metadata": {
    "collapsed": false
   },
   "outputs": [],
   "source": [
    "def case_data_for_year(calc_year):\n",
    "    #limit cases to based in year or before\n",
    "    year_data = data.loc[data['citing_case_year'] <= calc_year]\n",
    "    #build network\n",
    "    G = nx.from_pandas_dataframe(year_data,\"citing_case-opinion_type\",\"cited_case-opinion_type\",[\"weight\"],nx.DiGraph())\n",
    "    #calculate hub and authority\n",
    "    h,a = nx.hits(G,1000,normalized=False)\n",
    "    if(len(h) > 0 and len(a) > 0):\n",
    "        d = []\n",
    "        for key in h:\n",
    "            d.append({'calc_year': calc_year, 'case':key,  'hub_raw': h[key], 'auth_raw': a[key] })\n",
    "        year_case_scores = pd.DataFrame(d)\n",
    "        year_case_scores['hub_percentile'] = year_case_scores.rank(pct=True)['hub_raw']\n",
    "        year_case_scores['hub_rank'] = year_case_scores[\"hub_raw\"].rank(ascending=False)\n",
    "        year_case_scores['auth_percentile'] = year_case_scores.rank(pct=True)['auth_raw']\n",
    "        year_case_scores['auth_rank'] = year_case_scores[\"auth_raw\"].rank(ascending=False)\n",
    "        \n",
    "    else:\n",
    "        return None\n",
    "    return year_case_scores\n"
   ]
  },
  {
   "cell_type": "code",
   "execution_count": null,
   "metadata": {
    "collapsed": false
   },
   "outputs": [],
   "source": [
    "years_to_analyize = data.cited_case_year.unique()\n",
    "years_to_analyize = np.sort(years_to_analyize)[::-1]\n",
    "years_to_analyize = years_to_analyize[0:10]\n",
    "years_to_analyize = [2000]"
   ]
  },
  {
   "cell_type": "code",
   "execution_count": null,
   "metadata": {
    "collapsed": false
   },
   "outputs": [],
   "source": [
    "years_to_analyize"
   ]
  },
  {
   "cell_type": "code",
   "execution_count": null,
   "metadata": {
    "collapsed": false
   },
   "outputs": [],
   "source": [
    "case_data = pd.DataFrame()\n",
    "for year in years_to_analyize:\n",
    "    cdy = case_data_for_year(year)\n",
    "    if(cdy is None):\n",
    "        continue\n",
    "    else:\n",
    "        case_data = case_data.append(cdy)"
   ]
  },
  {
   "cell_type": "code",
   "execution_count": null,
   "metadata": {
    "collapsed": false
   },
   "outputs": [],
   "source": [
    "case_data['case'], case_data['opinion_type'] = case_data['case'].str.split('-', 1).str\n",
    "case_data['case_year'], _ = case_data['case'].str.split(' ',1).str\n",
    "case_data = pd.merge(case_data, cited_data, left_on='case', right_on='cited_case', how='left')"
   ]
  },
  {
   "cell_type": "code",
   "execution_count": null,
   "metadata": {
    "collapsed": true
   },
   "outputs": [],
   "source": [
    "case_data = case_data.filter(['calc_year','case','case_year','opinion_type', 'cited_usid', 'hub_rank', 'hub_percentile','auth_rank','auth_percentile','hub_raw','auth_raw'])"
   ]
  },
  {
   "cell_type": "code",
   "execution_count": null,
   "metadata": {
    "collapsed": false
   },
   "outputs": [],
   "source": [
    "case_data.sort_values(by=\"hub_rank\",inplace=True)\n",
    "case_data"
   ]
  },
  {
   "cell_type": "code",
   "execution_count": null,
   "metadata": {
    "collapsed": false
   },
   "outputs": [],
   "source": [
    "case_data.loc[case_data['opinion_type'] == \"2\"]"
   ]
  },
  {
   "cell_type": "code",
   "execution_count": null,
   "metadata": {
    "collapsed": true
   },
   "outputs": [],
   "source": []
  }
 ],
 "metadata": {
  "kernelspec": {
   "display_name": "Python 3",
   "language": "python",
   "name": "python3"
  },
  "language_info": {
   "codemirror_mode": {
    "name": "ipython",
    "version": 3
   },
   "file_extension": ".py",
   "mimetype": "text/x-python",
   "name": "python",
   "nbconvert_exporter": "python",
   "pygments_lexer": "ipython3",
   "version": "3.6.0"
  }
 },
 "nbformat": 4,
 "nbformat_minor": 1
}
